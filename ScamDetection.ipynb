{
  "cells": [
    {
      "cell_type": "code",
      "execution_count": 7,
      "metadata": {
        "id": "55a3RyO9q1ZO"
      },
      "outputs": [],
      "source": [
        "import os\n",
        "import pandas as pd\n",
        "import numpy as np\n",
        "import seaborn as sns\n",
        "import joblib\n",
        "from sklearn.feature_extraction.text import TfidfVectorizer\n",
        "from sklearn.model_selection import train_test_split\n",
        "import matplotlib.pyplot as plt\n",
        "from sklearn.linear_model import LogisticRegression\n",
        "from sklearn.metrics import accuracy_score\n",
        "from sklearn.ensemble import RandomForestClassifier\n",
        "from sklearn.tree import DecisionTreeClassifier\n",
        "from sklearn.preprocessing import LabelEncoder\n",
        "from sklearn.metrics import accuracy_score, classification_report, confusion_matrix\n"
      ]
    },
    {
      "cell_type": "code",
      "execution_count": null,
      "metadata": {
        "colab": {
          "base_uri": "https://localhost:8080/",
          "height": 38
        },
        "id": "kBxTfeHvrznY",
        "outputId": "2f853abe-2c58-4495-9050-42a7bbe7292b"
      },
      "outputs": [
        {
          "output_type": "display_data",
          "data": {
            "text/plain": [
              "<IPython.core.display.HTML object>"
            ],
            "text/html": [
              "\n",
              "     <input type=\"file\" id=\"files-50b6e8d0-6a30-4083-9ac9-83e3e978c69e\" name=\"files[]\" multiple disabled\n",
              "        style=\"border:none\" />\n",
              "     <output id=\"result-50b6e8d0-6a30-4083-9ac9-83e3e978c69e\">\n",
              "      Upload widget is only available when the cell has been executed in the\n",
              "      current browser session. Please rerun this cell to enable.\n",
              "      </output>\n",
              "      <script>// Copyright 2017 Google LLC\n",
              "//\n",
              "// Licensed under the Apache License, Version 2.0 (the \"License\");\n",
              "// you may not use this file except in compliance with the License.\n",
              "// You may obtain a copy of the License at\n",
              "//\n",
              "//      http://www.apache.org/licenses/LICENSE-2.0\n",
              "//\n",
              "// Unless required by applicable law or agreed to in writing, software\n",
              "// distributed under the License is distributed on an \"AS IS\" BASIS,\n",
              "// WITHOUT WARRANTIES OR CONDITIONS OF ANY KIND, either express or implied.\n",
              "// See the License for the specific language governing permissions and\n",
              "// limitations under the License.\n",
              "\n",
              "/**\n",
              " * @fileoverview Helpers for google.colab Python module.\n",
              " */\n",
              "(function(scope) {\n",
              "function span(text, styleAttributes = {}) {\n",
              "  const element = document.createElement('span');\n",
              "  element.textContent = text;\n",
              "  for (const key of Object.keys(styleAttributes)) {\n",
              "    element.style[key] = styleAttributes[key];\n",
              "  }\n",
              "  return element;\n",
              "}\n",
              "\n",
              "// Max number of bytes which will be uploaded at a time.\n",
              "const MAX_PAYLOAD_SIZE = 100 * 1024;\n",
              "\n",
              "function _uploadFiles(inputId, outputId) {\n",
              "  const steps = uploadFilesStep(inputId, outputId);\n",
              "  const outputElement = document.getElementById(outputId);\n",
              "  // Cache steps on the outputElement to make it available for the next call\n",
              "  // to uploadFilesContinue from Python.\n",
              "  outputElement.steps = steps;\n",
              "\n",
              "  return _uploadFilesContinue(outputId);\n",
              "}\n",
              "\n",
              "// This is roughly an async generator (not supported in the browser yet),\n",
              "// where there are multiple asynchronous steps and the Python side is going\n",
              "// to poll for completion of each step.\n",
              "// This uses a Promise to block the python side on completion of each step,\n",
              "// then passes the result of the previous step as the input to the next step.\n",
              "function _uploadFilesContinue(outputId) {\n",
              "  const outputElement = document.getElementById(outputId);\n",
              "  const steps = outputElement.steps;\n",
              "\n",
              "  const next = steps.next(outputElement.lastPromiseValue);\n",
              "  return Promise.resolve(next.value.promise).then((value) => {\n",
              "    // Cache the last promise value to make it available to the next\n",
              "    // step of the generator.\n",
              "    outputElement.lastPromiseValue = value;\n",
              "    return next.value.response;\n",
              "  });\n",
              "}\n",
              "\n",
              "/**\n",
              " * Generator function which is called between each async step of the upload\n",
              " * process.\n",
              " * @param {string} inputId Element ID of the input file picker element.\n",
              " * @param {string} outputId Element ID of the output display.\n",
              " * @return {!Iterable<!Object>} Iterable of next steps.\n",
              " */\n",
              "function* uploadFilesStep(inputId, outputId) {\n",
              "  const inputElement = document.getElementById(inputId);\n",
              "  inputElement.disabled = false;\n",
              "\n",
              "  const outputElement = document.getElementById(outputId);\n",
              "  outputElement.innerHTML = '';\n",
              "\n",
              "  const pickedPromise = new Promise((resolve) => {\n",
              "    inputElement.addEventListener('change', (e) => {\n",
              "      resolve(e.target.files);\n",
              "    });\n",
              "  });\n",
              "\n",
              "  const cancel = document.createElement('button');\n",
              "  inputElement.parentElement.appendChild(cancel);\n",
              "  cancel.textContent = 'Cancel upload';\n",
              "  const cancelPromise = new Promise((resolve) => {\n",
              "    cancel.onclick = () => {\n",
              "      resolve(null);\n",
              "    };\n",
              "  });\n",
              "\n",
              "  // Wait for the user to pick the files.\n",
              "  const files = yield {\n",
              "    promise: Promise.race([pickedPromise, cancelPromise]),\n",
              "    response: {\n",
              "      action: 'starting',\n",
              "    }\n",
              "  };\n",
              "\n",
              "  cancel.remove();\n",
              "\n",
              "  // Disable the input element since further picks are not allowed.\n",
              "  inputElement.disabled = true;\n",
              "\n",
              "  if (!files) {\n",
              "    return {\n",
              "      response: {\n",
              "        action: 'complete',\n",
              "      }\n",
              "    };\n",
              "  }\n",
              "\n",
              "  for (const file of files) {\n",
              "    const li = document.createElement('li');\n",
              "    li.append(span(file.name, {fontWeight: 'bold'}));\n",
              "    li.append(span(\n",
              "        `(${file.type || 'n/a'}) - ${file.size} bytes, ` +\n",
              "        `last modified: ${\n",
              "            file.lastModifiedDate ? file.lastModifiedDate.toLocaleDateString() :\n",
              "                                    'n/a'} - `));\n",
              "    const percent = span('0% done');\n",
              "    li.appendChild(percent);\n",
              "\n",
              "    outputElement.appendChild(li);\n",
              "\n",
              "    const fileDataPromise = new Promise((resolve) => {\n",
              "      const reader = new FileReader();\n",
              "      reader.onload = (e) => {\n",
              "        resolve(e.target.result);\n",
              "      };\n",
              "      reader.readAsArrayBuffer(file);\n",
              "    });\n",
              "    // Wait for the data to be ready.\n",
              "    let fileData = yield {\n",
              "      promise: fileDataPromise,\n",
              "      response: {\n",
              "        action: 'continue',\n",
              "      }\n",
              "    };\n",
              "\n",
              "    // Use a chunked sending to avoid message size limits. See b/62115660.\n",
              "    let position = 0;\n",
              "    do {\n",
              "      const length = Math.min(fileData.byteLength - position, MAX_PAYLOAD_SIZE);\n",
              "      const chunk = new Uint8Array(fileData, position, length);\n",
              "      position += length;\n",
              "\n",
              "      const base64 = btoa(String.fromCharCode.apply(null, chunk));\n",
              "      yield {\n",
              "        response: {\n",
              "          action: 'append',\n",
              "          file: file.name,\n",
              "          data: base64,\n",
              "        },\n",
              "      };\n",
              "\n",
              "      let percentDone = fileData.byteLength === 0 ?\n",
              "          100 :\n",
              "          Math.round((position / fileData.byteLength) * 100);\n",
              "      percent.textContent = `${percentDone}% done`;\n",
              "\n",
              "    } while (position < fileData.byteLength);\n",
              "  }\n",
              "\n",
              "  // All done.\n",
              "  yield {\n",
              "    response: {\n",
              "      action: 'complete',\n",
              "    }\n",
              "  };\n",
              "}\n",
              "\n",
              "scope.google = scope.google || {};\n",
              "scope.google.colab = scope.google.colab || {};\n",
              "scope.google.colab._files = {\n",
              "  _uploadFiles,\n",
              "  _uploadFilesContinue,\n",
              "};\n",
              "})(self);\n",
              "</script> "
            ]
          },
          "metadata": {}
        }
      ],
      "source": [
        "os.listdir()\n",
        "#load dataset\n",
        "from google.colab import files\n",
        "uploaded = files.upload()\n",
        "df = pd.read_csv(\"Dataset_5971.csv\")"
      ]
    },
    {
      "cell_type": "code",
      "execution_count": null,
      "metadata": {
        "id": "9Wx9JA5Dyz4_"
      },
      "outputs": [],
      "source": [
        "#normalize column names\n",
        "df.columns = [col.strip().lower() for col in df.columns]"
      ]
    },
    {
      "cell_type": "code",
      "execution_count": null,
      "metadata": {
        "id": "FO8Pi2egyzAz"
      },
      "outputs": [],
      "source": [
        "#copy of dataset to clean\n",
        "df_clean = df.copy()"
      ]
    },
    {
      "cell_type": "code",
      "execution_count": null,
      "metadata": {
        "id": "44cm6O7z5Qq_"
      },
      "outputs": [],
      "source": [
        "#convert 'url' and 'phone' to binary, 0=no, 1=yes\n",
        "df_clean['url']=df_clean['url'].apply(lambda x: 0 if str(x).strip().lower() == 'no' else 1)\n",
        "df_clean['phone']=df_clean['phone'].apply(lambda x: 0 if str(x).strip().lower() == 'no' else 1)\n",
        "\n",
        "\n",
        "\n",
        "#remove whitespace & convert 'label' column to lowercase, hot encode the labels\n",
        "le = LabelEncoder()\n",
        "df_clean['label']=df_clean['label'].astype(str).str.lower()\n",
        "df_clean['label'] = le.fit_transform(df_clean['label'])\n",
        "print(le.classes_)# 0=ham, 1=smishing, 2=spam\n",
        "\n",
        "# remove 'email' column\n",
        "df_clean.drop(columns=['email'], inplace=True)\n",
        "\n",
        "# clean 'text' column by ensuring it contains strings and strip whitespace\n",
        "df_clean['text'] = df_clean['text'].astype(str).str.strip()"
      ]
    },
    {
      "cell_type": "code",
      "execution_count": null,
      "metadata": {
        "id": "-3XI6IKt5U4h"
      },
      "outputs": [],
      "source": [
        "#preview cleaned dataset\n",
        "df_clean.head(100)"
      ]
    },
    {
      "cell_type": "code",
      "execution_count": null,
      "metadata": {
        "id": "XydP9EekOPXI"
      },
      "outputs": [],
      "source": [
        "# Data Visualizations\n",
        "plt.hist(df_clean['label'])\n",
        "plt.show()\n"
      ]
    },
    {
      "cell_type": "code",
      "execution_count": null,
      "metadata": {
        "id": "EQIOvQr_A8eF"
      },
      "outputs": [],
      "source": [
        "# vectorize the text\n",
        "\n",
        "vectorizer = TfidfVectorizer()\n",
        "vectorText = vectorizer.fit_transform(df_clean['text'])\n",
        "\n",
        "\n",
        "# Combine TF-IDF features with the remaining features in dataset\n",
        "X = np.hstack((vectorText.toarray(), df_clean[['url', 'phone']]))\n",
        "y = df_clean['label']\n",
        "\n",
        "\n",
        "X_train, X_test, y_train, y_test = train_test_split(X, y, test_size=0.2, random_state=42, stratify=y)\n"
      ]
    },
    {
      "cell_type": "code",
      "execution_count": null,
      "metadata": {
        "id": "zw8c23f5OMOf"
      },
      "outputs": [],
      "source": [
        "model1 = LogisticRegression()\n",
        "model1.fit(X_train, y_train)\n",
        "y_pred = model1.predict(X_test)\n",
        "print(accuracy_score(y_test, y_pred))\n",
        "\n",
        "# Confusion Matrix - Logistic Regression\n",
        "cm = confusion_matrix(y_test, y_pred)\n",
        "sns.heatmap(cm, annot=True, fmt=\"d\", cmap=\"Blues\", xticklabels=le.classes_, yticklabels=le.classes_)\n",
        "plt.xlabel(\"Predicted\")\n",
        "plt.ylabel(\"Actual\")\n",
        "plt.title(\"Confusion Matrix - Logistic Regression\")\n",
        "plt.show()\n",
        "\n",
        "# Classification Report - Logistic Regression\n",
        "print(\"Classification Report - Logistic Regression\")\n",
        "print(classification_report(y_test, y_pred, target_names=le.classes_))"
      ]
    },
    {
      "cell_type": "code",
      "execution_count": null,
      "metadata": {
        "id": "39o34jT8Pqx9"
      },
      "outputs": [],
      "source": [
        "model2 = RandomForestClassifier()\n",
        "model2.fit(X_train, y_train)\n",
        "y_pred = model2.predict(X_test)\n",
        "print(accuracy_score(y_test, y_pred))\n",
        "\n",
        "# Confusion Matrix - Random Forest\n",
        "cm = confusion_matrix(y_test, y_pred)\n",
        "sns.heatmap(cm, annot=True, fmt=\"d\", cmap=\"Blues\", xticklabels=le.classes_, yticklabels=le.classes_)\n",
        "plt.xlabel(\"Predicted\")\n",
        "plt.ylabel(\"Actual\")\n",
        "plt.title(\"Confusion Matrix - Random Forest\")\n",
        "plt.show()\n",
        "\n",
        "# Classification Report - Random Forest\n",
        "print(\"Classification Report - Random Forest\")\n",
        "print(classification_report(y_test, y_pred, target_names=le.classes_))\n",
        "\n",
        "\n",
        "\n",
        "\n"
      ]
    },
    {
      "cell_type": "code",
      "execution_count": null,
      "metadata": {
        "id": "la2fFR4aQscn"
      },
      "outputs": [],
      "source": [
        "model3 = DecisionTreeClassifier()\n",
        "model3.fit(X_train, y_train)\n",
        "y_pred = model3.predict(X_test)\n",
        "print(accuracy_score(y_test, y_pred))\n",
        "\n",
        "\n",
        "# Confusion Matrix - Decision Tree\n",
        "cm = confusion_matrix(y_test, y_pred)\n",
        "sns.heatmap(cm, annot=True, fmt=\"d\", cmap=\"Blues\", xticklabels=le.classes_, yticklabels=le.classes_)\n",
        "plt.xlabel(\"Predicted\")\n",
        "plt.ylabel(\"Actual\")\n",
        "plt.title(\"Confusion Matrix - Decision Tree\")\n",
        "plt.show()\n",
        "\n",
        "# Classification Report - Decision Tree\n",
        "print(\"Classification Report - Decision Tree\")\n",
        "print(classification_report(y_test, y_pred, target_names=le.classes_))\n"
      ]
    },
    {
      "cell_type": "code",
      "execution_count": null,
      "metadata": {
        "id": "Wca-2tf0lDs7"
      },
      "outputs": [],
      "source": [
        "accuracies = [model1.score(X_test, y_test), model2.score(X_test, y_test), model3.score(X_test, y_test)]\n",
        "model_names = [\"Logistic Regression\", \"Random Forest\", \"Decision Tree\"]\n",
        "for i, acc in enumerate(accuracies):\n",
        "    plt.text(i, acc + 0.005, f\"{acc:.3f}\", ha='center', fontsize=10)\n",
        "\n",
        "plt.bar(model_names, accuracies, color=['#FFC0CB', '#90EE90', '#ADD8E6'])\n",
        "plt.title(\"Model Accuracy Comparison\")\n",
        "plt.ylabel(\"Accuracy\")\n",
        "plt.ylim(0, 1)\n",
        "plt.show()"
      ]
    },
    {
      "cell_type": "code",
      "execution_count": null,
      "metadata": {
        "id": "0Y8JsLBKYkyF"
      },
      "outputs": [],
      "source": [
        "texts = [\"Amazon call us and txt prize contact claim is sending you a refunding of $32.64. Please reply with your bank account and routing number to receive your refund.\",\n",
        "         ]\n",
        "newData = pd.DataFrame({\n",
        "    'text': texts,\n",
        "    'url': [0],\n",
        "    'phone': [0]\n",
        "})\n",
        "\n",
        "vectorized = vectorizer.transform(newData['text'])\n",
        "testVector = np.hstack((vectorized.toarray(), newData[['url', 'phone']]))\n",
        "\n",
        "\n",
        "classNumber = model2.predict(testVector)\n",
        "\n",
        "# classNumber is the encoded prediction(s), e.g., array([1, 0, 2])\n",
        "original_labels = le.inverse_transform(classNumber)\n",
        "\n",
        "for text, label in zip(texts, original_labels):\n",
        "    print(f\"Text: {text}\\nPredicted label: {label}\\n\")"
      ]
    },
    {
      "cell_type": "code",
      "execution_count": null,
      "metadata": {
        "id": "0rdqCCp1JHVo"
      },
      "outputs": [],
      "source": [
        "\n",
        "# Save the best model (Random Forest)\n",
        "joblib.dump(model2, \"model.pkl\")\n",
        "\n",
        "# Save the vectorizer\n",
        "joblib.dump(vectorizer, \"vectorizer.pkl\")\n",
        "\n",
        "# Save the label encoder\n",
        "joblib.dump(le, \"label_encoder.pkl\")"
      ]
    },
    {
      "cell_type": "code",
      "execution_count": null,
      "metadata": {
        "id": "-GA3zWoGJttB"
      },
      "outputs": [],
      "source": [
        "Hey! Just wanted to check in and see how you're doing. Hope everything's going well 😊\n",
        "\n",
        "Congratulations! You’ve won a $1,000 Walmart gift card! Claim here: wmartfreeprizze.net\n",
        "\n",
        "Tired of slow WiFi? Switch to HyperNet today and get 2 months FREE! No contracts, no hassle. Call 1-800-FASTNET or visit hypernetnow.com"
      ]
    }
  ],
  "metadata": {
    "colab": {
      "provenance": []
    },
    "kernelspec": {
      "display_name": "Python 3",
      "name": "python3"
    },
    "language_info": {
      "name": "python"
    }
  },
  "nbformat": 4,
  "nbformat_minor": 0
}